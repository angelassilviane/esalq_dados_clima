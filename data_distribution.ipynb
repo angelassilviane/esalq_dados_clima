{
 "cells": [
  {
   "cell_type": "code",
   "execution_count": null,
   "metadata": {},
   "outputs": [],
   "source": [
    "# Função para gerar os gráficos:\n",
    "\n",
    "def data_distribution(df_estacao, col):\n",
    "    plt.figure(figsize=(24,8))\n",
    "    \n",
    "    # Histograma:\n",
    "    plt.subplot(1,3,1)\n",
    "    plt.hist(df_estacao[col],bins=30)\n",
    "    plt.title('Histograma')\n",
    "    \n",
    "    # Q-Q:\n",
    "    plt.subplot(1,3,2)\n",
    "    stats.probplot(df_estacao[col], dist='norm',plot=plt)\n",
    "    plt.ylabel('quantiles')\n",
    "    \n",
    "    # Boxplot:\n",
    "    plt.subplot(1,3,3)\n",
    "    sns.boxplot(y=df_estacao[col])\n",
    "    plt.title('Boxplot')\n",
    "    \n",
    "    plt.show()"
   ]
  }
 ],
 "metadata": {
  "language_info": {
   "name": "python"
  }
 },
 "nbformat": 4,
 "nbformat_minor": 2
}
